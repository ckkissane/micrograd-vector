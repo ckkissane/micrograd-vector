{
  "nbformat": 4,
  "nbformat_minor": 0,
  "metadata": {
    "colab": {
      "provenance": [],
      "authorship_tag": "ABX9TyNNPOf+g4/WrCsW2QJ+XfjJ"
    },
    "kernelspec": {
      "name": "python3",
      "display_name": "Python 3"
    },
    "language_info": {
      "name": "python"
    }
  },
  "cells": [
    {
      "cell_type": "code",
      "source": [
        "from engine import Vector\n",
        "import nn\n",
        "import functional as F"
      ],
      "metadata": {
        "id": "AH5Ow0trJ_aI"
      },
      "execution_count": 1,
      "outputs": []
    },
    {
      "cell_type": "code",
      "execution_count": 2,
      "metadata": {
        "id": "-Vdnji1ROB8w"
      },
      "outputs": [],
      "source": [
        "# use torch to get mnist data\n",
        "import torch\n",
        "import torchvision \n",
        "from torchvision import transforms"
      ]
    },
    {
      "cell_type": "markdown",
      "source": [
        "MLP definition"
      ],
      "metadata": {
        "id": "4om6VrprbbuJ"
      }
    },
    {
      "cell_type": "code",
      "source": [
        "class MLP(nn.Module):\n",
        "    def __init__(self, nin, nouts):\n",
        "        sz = [nin] + nouts\n",
        "        self.layers = []\n",
        "        for i in range(len(nouts)):\n",
        "            self.layers.append(nn.Linear(sz[i], sz[i+1]))\n",
        "            if i != len(nouts) - 1:\n",
        "                self.layers.append(nn.Sigmoid())\n",
        "    \n",
        "    def __repr__(self):\n",
        "        return f\"MLP of [{', '.join(str(layer) for layer in self.layers)}]\"\n",
        "\n",
        "    def __call__(self, x):\n",
        "        for layer in self.layers:\n",
        "            x = layer(x)\n",
        "        return x\n",
        "    \n",
        "    def parameters(self):\n",
        "        return [p for layer in self.layers for p in layer.parameters()]"
      ],
      "metadata": {
        "id": "pzkG1g6LaPu0"
      },
      "execution_count": 3,
      "outputs": []
    },
    {
      "cell_type": "markdown",
      "source": [
        "Training"
      ],
      "metadata": {
        "id": "Cv1WxCugdYQj"
      }
    },
    {
      "cell_type": "code",
      "source": [
        "train_dataset = torchvision.datasets.MNIST(root='./data',\n",
        "                                           train=True,\n",
        "                                           transform=transforms.Compose([\n",
        "                                                  transforms.ToTensor(),\n",
        "                                                  transforms.Normalize(mean = (0.1307,), std = (0.3081,))]),\n",
        "                                           download=True)"
      ],
      "metadata": {
        "id": "MEL5ZTUFeZWl"
      },
      "execution_count": 4,
      "outputs": []
    },
    {
      "cell_type": "code",
      "source": [
        "# put training data in lists for preprocessing\n",
        "xs = []\n",
        "ys = []\n",
        "\n",
        "for x, y in train_dataset:\n",
        "    xs.append(x)\n",
        "    ys.append(y)\n",
        "\n",
        "len(xs), len(ys)"
      ],
      "metadata": {
        "colab": {
          "base_uri": "https://localhost:8080/"
        },
        "id": "Q-TZCYtgecu_",
        "outputId": "3c7331d6-57b0-48d3-ee6d-a3f56f4191bb"
      },
      "execution_count": 5,
      "outputs": [
        {
          "output_type": "execute_result",
          "data": {
            "text/plain": [
              "(60000, 60000)"
            ]
          },
          "metadata": {},
          "execution_count": 5
        }
      ]
    },
    {
      "cell_type": "code",
      "source": [
        "# convert tensors to Vectors\n",
        "xs = list(map(torch.flatten, xs))\n",
        "xs = list(map(lambda x: x.tolist(), xs))\n",
        "xs = list(map(Vector, xs))"
      ],
      "metadata": {
        "id": "nnShi3-Beg20"
      },
      "execution_count": 6,
      "outputs": []
    },
    {
      "cell_type": "code",
      "source": [
        "model = MLP(784, [16, 16, 10])\n",
        "\n",
        "# training loop\n",
        "for it, (x, y) in enumerate(zip(xs, ys)):\n",
        "    # forward pass\n",
        "    ypred = model(x)\n",
        "    loss = F.cross_entropy(ypred, y)\n",
        "    \n",
        "    # backward pass\n",
        "    for p in model.parameters():\n",
        "        for i in range(len(p.grad)):\n",
        "            p.grad[i] = 0.0\n",
        "    loss.backward()\n",
        "    \n",
        "    # update\n",
        "    for p in model.parameters():\n",
        "        for i in range(len(p.grad)):\n",
        "            p.data[i] += -0.1 * p.grad[i]\n",
        "    \n",
        "    if it % 1000 == 0:\n",
        "        print(f\"it: {it}, loss: {loss}\")"
      ],
      "metadata": {
        "id": "CNBZDzWne7JW",
        "colab": {
          "base_uri": "https://localhost:8080/"
        },
        "outputId": "fa2f69fa-0c34-4b1f-893d-d69e28eb8a1b"
      },
      "execution_count": 7,
      "outputs": [
        {
          "output_type": "stream",
          "name": "stdout",
          "text": [
            "it: 0, loss: Vector(data=[3.7758259746949765])\n",
            "it: 1000, loss: Vector(data=[0.7096865254091745])\n",
            "it: 2000, loss: Vector(data=[2.1755073925857094])\n",
            "it: 3000, loss: Vector(data=[2.937726925792173])\n",
            "it: 4000, loss: Vector(data=[0.8237005189188523])\n",
            "it: 5000, loss: Vector(data=[1.2924954477194541])\n",
            "it: 6000, loss: Vector(data=[0.02849247329047058])\n",
            "it: 7000, loss: Vector(data=[0.4270636586225201])\n",
            "it: 8000, loss: Vector(data=[0.007921347504474081])\n",
            "it: 9000, loss: Vector(data=[0.19259613528648062])\n",
            "it: 10000, loss: Vector(data=[0.1986309883710945])\n",
            "it: 11000, loss: Vector(data=[0.5966477250787485])\n",
            "it: 12000, loss: Vector(data=[0.7467733562488219])\n",
            "it: 13000, loss: Vector(data=[0.15635395665137808])\n",
            "it: 14000, loss: Vector(data=[0.0008652280179537767])\n",
            "it: 15000, loss: Vector(data=[0.11089688623004268])\n",
            "it: 16000, loss: Vector(data=[0.17589293352049917])\n",
            "it: 17000, loss: Vector(data=[0.06367646974913856])\n",
            "it: 18000, loss: Vector(data=[0.1591280027737671])\n",
            "it: 19000, loss: Vector(data=[0.15047049403860446])\n",
            "it: 20000, loss: Vector(data=[0.007177805507537508])\n",
            "it: 21000, loss: Vector(data=[0.15780626578864196])\n",
            "it: 22000, loss: Vector(data=[1.7067770729169869])\n",
            "it: 23000, loss: Vector(data=[0.018051795649911134])\n",
            "it: 24000, loss: Vector(data=[1.4565309460119589])\n",
            "it: 25000, loss: Vector(data=[3.3775715199621175])\n",
            "it: 26000, loss: Vector(data=[0.06123760439773129])\n",
            "it: 27000, loss: Vector(data=[0.34570486909530973])\n",
            "it: 28000, loss: Vector(data=[0.0183304849583226])\n",
            "it: 29000, loss: Vector(data=[0.08185987056414869])\n",
            "it: 30000, loss: Vector(data=[0.0023736804724016096])\n",
            "it: 31000, loss: Vector(data=[2.9914004080270287])\n",
            "it: 32000, loss: Vector(data=[0.032175839547598166])\n",
            "it: 33000, loss: Vector(data=[2.320892675325651])\n",
            "it: 34000, loss: Vector(data=[0.17200331207229486])\n",
            "it: 35000, loss: Vector(data=[0.011767100385718128])\n",
            "it: 36000, loss: Vector(data=[0.056738279523987765])\n",
            "it: 37000, loss: Vector(data=[0.01893272620880375])\n",
            "it: 38000, loss: Vector(data=[0.1383724182972654])\n",
            "it: 39000, loss: Vector(data=[1.0660352492489509])\n",
            "it: 40000, loss: Vector(data=[0.1479051374706308])\n",
            "it: 41000, loss: Vector(data=[0.018326335816747367])\n",
            "it: 42000, loss: Vector(data=[0.004921983800911496])\n",
            "it: 43000, loss: Vector(data=[0.6349604229302749])\n",
            "it: 44000, loss: Vector(data=[0.00406152936604408])\n",
            "it: 45000, loss: Vector(data=[0.23400081056403346])\n",
            "it: 46000, loss: Vector(data=[0.19674187049848985])\n",
            "it: 47000, loss: Vector(data=[0.025980432382583022])\n",
            "it: 48000, loss: Vector(data=[0.1079520787913722])\n",
            "it: 49000, loss: Vector(data=[0.043360554791082605])\n",
            "it: 50000, loss: Vector(data=[0.43582374295696824])\n",
            "it: 51000, loss: Vector(data=[0.045145009037868715])\n",
            "it: 52000, loss: Vector(data=[0.927142319752595])\n",
            "it: 53000, loss: Vector(data=[0.03613055479394613])\n",
            "it: 54000, loss: Vector(data=[0.18011173078492562])\n",
            "it: 55000, loss: Vector(data=[0.004917352980090469])\n",
            "it: 56000, loss: Vector(data=[0.001980513747687348])\n",
            "it: 57000, loss: Vector(data=[0.013421005157255925])\n",
            "it: 58000, loss: Vector(data=[0.030687342804219142])\n",
            "it: 59000, loss: Vector(data=[0.07665860100329713])\n"
          ]
        }
      ]
    },
    {
      "cell_type": "markdown",
      "source": [
        "Testing"
      ],
      "metadata": {
        "id": "QiGeA5P09nw4"
      }
    },
    {
      "cell_type": "code",
      "source": [
        "test_dataset = torchvision.datasets.MNIST(root='./data',\n",
        "                                          train=False,\n",
        "                                          transform=transforms.Compose([\n",
        "                                                  transforms.ToTensor(),\n",
        "                                                  transforms.Normalize(mean = (0.1307,), std = (0.3081,))]),\n",
        "                                          download=True)"
      ],
      "metadata": {
        "id": "UWOGcukwlZrA"
      },
      "execution_count": 8,
      "outputs": []
    },
    {
      "cell_type": "code",
      "source": [
        "# put training data in lists for preprocessing\n",
        "test_xs = []\n",
        "test_ys = []\n",
        "\n",
        "for x, y in test_dataset:\n",
        "    test_xs.append(x)\n",
        "    test_ys.append(y)\n",
        "\n",
        "len(test_xs), len(test_ys)"
      ],
      "metadata": {
        "colab": {
          "base_uri": "https://localhost:8080/"
        },
        "id": "4NY5lWmy9rLq",
        "outputId": "1c95b764-3634-4d58-a7ac-26e2f3369133"
      },
      "execution_count": 9,
      "outputs": [
        {
          "output_type": "execute_result",
          "data": {
            "text/plain": [
              "(10000, 10000)"
            ]
          },
          "metadata": {},
          "execution_count": 9
        }
      ]
    },
    {
      "cell_type": "code",
      "source": [
        "# convert tensors to Vectors\n",
        "test_xs = list(map(torch.flatten, test_xs))\n",
        "test_xs = list(map(lambda x: x.tolist(), test_xs))\n",
        "test_xs = list(map(Vector, test_xs))"
      ],
      "metadata": {
        "id": "DWw2HSbT9uz1"
      },
      "execution_count": 10,
      "outputs": []
    },
    {
      "cell_type": "code",
      "source": [
        "def argmax(input: Vector):\n",
        "    res = None\n",
        "    max_val = float('-inf')\n",
        "    for i, val in enumerate(input.data):\n",
        "        if val >= max_val:\n",
        "            res = i\n",
        "            max_val = val\n",
        "    return res"
      ],
      "metadata": {
        "id": "7Ner-dR0FVPd"
      },
      "execution_count": 11,
      "outputs": []
    },
    {
      "cell_type": "code",
      "source": [
        "# evaluate accuracy on test set\n",
        "correct = 0\n",
        "total = 0\n",
        "for x, y in zip(test_xs, test_ys):\n",
        "    logits = model(x)\n",
        "    pred = argmax(logits)\n",
        "    correct += (y == pred)\n",
        "    total += 1\n",
        "\n",
        "print(f\"accuracy: {correct / total}\")"
      ],
      "metadata": {
        "colab": {
          "base_uri": "https://localhost:8080/"
        },
        "id": "pH8Akg7l95ly",
        "outputId": "a372b8be-aa40-4058-dea8-3e2013b27d9d"
      },
      "execution_count": 12,
      "outputs": [
        {
          "output_type": "stream",
          "name": "stdout",
          "text": [
            "accuracy: 0.8571\n"
          ]
        }
      ]
    }
  ]
}